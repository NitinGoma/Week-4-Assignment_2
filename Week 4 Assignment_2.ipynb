{
 "cells": [
  {
   "cell_type": "markdown",
   "id": "f794f737-6c4d-4023-b3a3-49cfdd04951a",
   "metadata": {},
   "source": [
    "Week 4 Assignment_2"
   ]
  },
  {
   "cell_type": "markdown",
   "id": "511ab012-0624-480d-b470-3ac9ab0baa98",
   "metadata": {},
   "source": [
    "Q1. What is Abstraction in OOps? Explain with an example."
   ]
  },
  {
   "cell_type": "code",
   "execution_count": 1,
   "id": "160536f9-e81d-4ccd-ae2c-7c3cc52abf64",
   "metadata": {},
   "outputs": [],
   "source": [
    "import abc\n",
    "class pwskills:\n",
    "    \n",
    "    @abc.abstractmethod\n",
    "    def students_detials(self):\n",
    "        pass\n",
    "    \n",
    "    @abc.abstractmethod\n",
    "    def student_assignemnt(self):\n",
    "        pass\n",
    "    \n",
    "    @abc.abstractmethod\n",
    "    def student_marks(self):\n",
    "        pass"
   ]
  },
  {
   "cell_type": "code",
   "execution_count": 2,
   "id": "9b4b80dc-6433-427b-8912-e1363e8a95a0",
   "metadata": {},
   "outputs": [],
   "source": [
    "class data_science_maters(pwskills):\n",
    "    \n",
    "    def students_detials(self):\n",
    "        return \"this will return a student details for data science masters \"\n",
    "    \n",
    "    def student_assignemnt(self):\n",
    "        return \"this will give you a studnt assignment detaild for data science masters \""
   ]
  },
  {
   "cell_type": "code",
   "execution_count": 3,
   "id": "12979149-d139-453a-833e-9e7b2f05fa4b",
   "metadata": {},
   "outputs": [
    {
     "data": {
      "text/plain": [
       "'this will return a student details for data science masters '"
      ]
     },
     "execution_count": 3,
     "metadata": {},
     "output_type": "execute_result"
    }
   ],
   "source": [
    "dsm = data_science_maters()\n",
    "dsm.students_detials()"
   ]
  },
  {
   "cell_type": "markdown",
   "id": "295f1384-9fb1-4dc1-915a-8d2038a9fb40",
   "metadata": {},
   "source": [
    "Q2. Differentiate between Abstraction and Encapsulation. Explain with an example."
   ]
  },
  {
   "cell_type": "markdown",
   "id": "b98eace9-3ec8-47e6-93ed-bd46d6fcea64",
   "metadata": {},
   "source": [
    "Abstraction and encapsulation are two important concepts in object-oriented programming (OOP). They are often used together, but they have different meanings.\n",
    "\n",
    "Abstraction is the process of hiding unnecessary details from the user. It allows us to focus on the essential aspects of an object without getting bogged down in the details.\n",
    "\n",
    "Encapsulation is the process of bundling data and related functionality together into a single unit. This allows us to protect our data from unauthorized access and to make our code more modular and reusable."
   ]
  },
  {
   "cell_type": "code",
   "execution_count": 4,
   "id": "5e62597a-49ad-4245-9d18-e957aba5e507",
   "metadata": {},
   "outputs": [],
   "source": [
    "class Car:\n",
    "    def __init__(self, make, model, year):\n",
    "        self._make = make\n",
    "        self._model = model\n",
    "        self._year = year\n",
    "\n",
    "    def drive(self):\n",
    "        print(\"The {} {} is driving.\" .format(self._make, self._model))\n",
    "\n",
    "    def get_make(self):\n",
    "        return self._make\n",
    "\n",
    "    def set_make(self, make):\n",
    "        self._make = make"
   ]
  },
  {
   "cell_type": "code",
   "execution_count": 5,
   "id": "4a835870-6bcb-4e68-8344-86eccb57d5fd",
   "metadata": {},
   "outputs": [
    {
     "name": "stdout",
     "output_type": "stream",
     "text": [
      "The Toyota Camry is driving.\n"
     ]
    }
   ],
   "source": [
    "my_car = Car(\"Toyota\", \"Camry\", 2023)\n",
    "my_car.drive()"
   ]
  },
  {
   "cell_type": "markdown",
   "id": "c3cfac6e-2237-4cf0-afdc-cad984885a2a",
   "metadata": {},
   "source": [
    "Q3. What is abc module in python? Why is it used?"
   ]
  },
  {
   "cell_type": "code",
   "execution_count": 6,
   "id": "95f0e938-4f7e-49ed-ba30-1fb95e3b3e1c",
   "metadata": {},
   "outputs": [],
   "source": [
    "#The abc module in Python provides the infrastructure for defining abstract base classes (ABCs). ABCs are classes that define the common interface for a set of related classes. They are used to ensure that all subclasses implement the required methods.\n",
    "import abc\n",
    "class pwskills:\n",
    "    \n",
    "    @abc.abstractmethod\n",
    "    def students_detials(self):\n",
    "        pass\n",
    "    \n",
    "    @abc.abstractmethod\n",
    "    def student_assignemnt(self):\n",
    "        pass\n",
    "    \n",
    "    @abc.abstractmethod\n",
    "    def student_marks(self):\n",
    "        pass"
   ]
  },
  {
   "cell_type": "markdown",
   "id": "9ee0cf02-649b-432f-b0aa-7853927cff39",
   "metadata": {},
   "source": [
    "Q4. How can we achieve data abstraction?"
   ]
  },
  {
   "cell_type": "markdown",
   "id": "1b1cb4ae-8b64-4510-8e3b-fe88971db6f5",
   "metadata": {},
   "source": [
    "There are two main ways to achieve data abstraction in Python:\n",
    "\n",
    "Using abstract base classes (ABCs)\n",
    "Using modules"
   ]
  },
  {
   "cell_type": "markdown",
   "id": "0e5db16d-bff0-4749-8ddc-3b16a5796c9f",
   "metadata": {},
   "source": [
    "Q5. Can we create an instance of an abstract class? Explain your answer."
   ]
  },
  {
   "cell_type": "markdown",
   "id": "cfc78c43-6624-40a7-868f-06bff005bb1d",
   "metadata": {},
   "source": [
    "No, we cannot create an instance of an abstract class in Python. Abstract classes are classes that define the common interface for a set of related classes, but they do not provide a complete implementation of all of the methods. Concrete subclasses of abstract classes must implement all of the abstract methods in order to be instantiated."
   ]
  },
  {
   "cell_type": "code",
   "execution_count": 7,
   "id": "9c1de4fc-90ac-471a-9abb-430ef3110d88",
   "metadata": {},
   "outputs": [
    {
     "ename": "TypeError",
     "evalue": "Can't instantiate abstract class Shape with abstract method area",
     "output_type": "error",
     "traceback": [
      "\u001b[0;31m---------------------------------------------------------------------------\u001b[0m",
      "\u001b[0;31mTypeError\u001b[0m                                 Traceback (most recent call last)",
      "Cell \u001b[0;32mIn[7], line 10\u001b[0m\n\u001b[1;32m      6\u001b[0m         \u001b[38;5;28;01mpass\u001b[39;00m\n\u001b[1;32m      8\u001b[0m \u001b[38;5;66;03m# Try to create an instance of the Shape abstract class.\u001b[39;00m\n\u001b[1;32m      9\u001b[0m \u001b[38;5;66;03m# This will raise a TypeError exception.\u001b[39;00m\n\u001b[0;32m---> 10\u001b[0m shape \u001b[38;5;241m=\u001b[39m \u001b[43mShape\u001b[49m\u001b[43m(\u001b[49m\u001b[43m)\u001b[49m\n",
      "\u001b[0;31mTypeError\u001b[0m: Can't instantiate abstract class Shape with abstract method area"
     ]
    }
   ],
   "source": [
    "import abc\n",
    "\n",
    "class Shape(abc.ABC):\n",
    "    @abc.abstractmethod\n",
    "    def area(self):\n",
    "        pass\n",
    "\n",
    "# Try to create an instance of the Shape abstract class.\n",
    "# This will raise a TypeError exception.\n",
    "shape = Shape()"
   ]
  },
  {
   "cell_type": "code",
   "execution_count": null,
   "id": "78c8650b-e4ff-406c-aa85-27ba138e0953",
   "metadata": {},
   "outputs": [],
   "source": []
  }
 ],
 "metadata": {
  "kernelspec": {
   "display_name": "Python 3 (ipykernel)",
   "language": "python",
   "name": "python3"
  },
  "language_info": {
   "codemirror_mode": {
    "name": "ipython",
    "version": 3
   },
   "file_extension": ".py",
   "mimetype": "text/x-python",
   "name": "python",
   "nbconvert_exporter": "python",
   "pygments_lexer": "ipython3",
   "version": "3.10.8"
  }
 },
 "nbformat": 4,
 "nbformat_minor": 5
}
